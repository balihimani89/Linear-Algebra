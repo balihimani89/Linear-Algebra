{
 "cells": [
  {
   "cell_type": "code",
   "execution_count": 1,
   "metadata": {},
   "outputs": [],
   "source": [
    "import numpy as np"
   ]
  },
  {
   "cell_type": "code",
   "execution_count": 3,
   "metadata": {},
   "outputs": [],
   "source": [
    "R=np.random.randn(10,5)"
   ]
  },
  {
   "cell_type": "code",
   "execution_count": 7,
   "metadata": {},
   "outputs": [
    {
     "data": {
      "text/plain": [
       "(10, 10)"
      ]
     },
     "execution_count": 7,
     "metadata": {},
     "output_type": "execute_result"
    }
   ],
   "source": [
    "A=np.matmul(R,R.T)\n",
    "A.shape"
   ]
  },
  {
   "cell_type": "code",
   "execution_count": 8,
   "metadata": {},
   "outputs": [],
   "source": [
    "evd=np.linalg.svd(A)"
   ]
  },
  {
   "cell_type": "code",
   "execution_count": 10,
   "metadata": {},
   "outputs": [
    {
     "data": {
      "text/plain": [
       "tuple"
      ]
     },
     "execution_count": 10,
     "metadata": {},
     "output_type": "execute_result"
    }
   ],
   "source": [
    "type(evd)"
   ]
  },
  {
   "cell_type": "code",
   "execution_count": 11,
   "metadata": {},
   "outputs": [
    {
     "data": {
      "text/plain": [
       "3"
      ]
     },
     "execution_count": 11,
     "metadata": {},
     "output_type": "execute_result"
    }
   ],
   "source": [
    "len(evd)"
   ]
  },
  {
   "cell_type": "code",
   "execution_count": 18,
   "metadata": {},
   "outputs": [
    {
     "data": {
      "text/plain": [
       "array([2.08956761e+01, 1.17476486e+01, 9.05367189e+00, 2.98431961e+00,\n",
       "       2.34238133e+00, 1.35133180e-15, 1.11084473e-15, 6.77300832e-16,\n",
       "       3.28288809e-16, 2.23359971e-17])"
      ]
     },
     "execution_count": 18,
     "metadata": {},
     "output_type": "execute_result"
    }
   ],
   "source": [
    "evd[1]"
   ]
  },
  {
   "cell_type": "code",
   "execution_count": 19,
   "metadata": {},
   "outputs": [
    {
     "data": {
      "text/plain": [
       "array([1., 1., 1., 1., 1., 1., 1., 1., 1., 1.])"
      ]
     },
     "execution_count": 19,
     "metadata": {},
     "output_type": "execute_result"
    }
   ],
   "source": [
    "np.linalg.norm(evd[0],axis=0,ord=2)\n",
    "#thus all are unit vectors."
   ]
  },
  {
   "cell_type": "code",
   "execution_count": 23,
   "metadata": {},
   "outputs": [
    {
     "data": {
      "text/plain": [
       "array([1., 1., 1., 1., 1., 1., 1., 1., 1., 1.])"
      ]
     },
     "execution_count": 23,
     "metadata": {},
     "output_type": "execute_result"
    }
   ],
   "source": [
    "#to see whether all vectors are at angle of 90 degree. vertical direction\n",
    "np.linalg.norm(evd[2],axis=1,ord=2)"
   ]
  },
  {
   "cell_type": "code",
   "execution_count": 29,
   "metadata": {},
   "outputs": [
    {
     "data": {
      "text/plain": [
       "array([-0.07257685, -0.30345059, -0.14642864, -0.57628974, -0.23848803,\n",
       "       -0.03599713, -0.356722  , -0.58684813, -0.09534359,  0.10097066])"
      ]
     },
     "execution_count": 29,
     "metadata": {},
     "output_type": "execute_result"
    }
   ],
   "source": [
    "q1_transpose=evd[2][0,:]\n",
    "q1_transpose"
   ]
  },
  {
   "cell_type": "code",
   "execution_count": 26,
   "metadata": {},
   "outputs": [
    {
     "data": {
      "text/plain": [
       "array([[-0.07257685, -0.30345059, -0.14642864, -0.57628974, -0.23848803,\n",
       "        -0.03599713, -0.356722  , -0.58684813, -0.09534359,  0.10097066],\n",
       "       [ 0.24848373, -0.1753412 , -0.68490146,  0.13480172, -0.44929413,\n",
       "        -0.01480693,  0.16549517,  0.11510802,  0.42114894,  0.01266412],\n",
       "       [-0.37455345,  0.27499696, -0.37031242,  0.38356512,  0.16183882,\n",
       "        -0.20708317, -0.10602438, -0.44207948, -0.04748682, -0.47098537],\n",
       "       [ 0.38843715,  0.06964576, -0.33414748, -0.47073096,  0.60473149,\n",
       "        -0.20891371,  0.23935264,  0.05963012, -0.05967732, -0.19305942],\n",
       "       [-0.09964397,  0.42411812,  0.07702676, -0.14591522, -0.3353888 ,\n",
       "        -0.65167089,  0.37032156, -0.06132825, -0.11128148,  0.30418277],\n",
       "       [-0.10842198,  0.01232325,  0.22735474, -0.0399621 ,  0.19931329,\n",
       "         0.22936873,  0.47934394, -0.47435906,  0.60984048,  0.12560779],\n",
       "       [-0.30649236,  0.58079522, -0.24329135, -0.29186639,  0.09155122,\n",
       "         0.26528271, -0.35579034,  0.24682167,  0.29162646,  0.27028214],\n",
       "       [-0.70912826, -0.36858739, -0.13915548, -0.25348361,  0.00188802,\n",
       "         0.03942284,  0.37111716,  0.32590845, -0.10742451, -0.14359755],\n",
       "       [ 0.15007032,  0.37611901, -0.00201908, -0.19548015, -0.37346094,\n",
       "         0.5419094 ,  0.32607164, -0.10736359, -0.33992531, -0.36229696],\n",
       "       [-0.02844163, -0.04501157, -0.3528463 ,  0.26545839,  0.22202832,\n",
       "         0.26282457,  0.19820143, -0.18954559, -0.4596766 ,  0.63032462]])"
      ]
     },
     "execution_count": 26,
     "metadata": {},
     "output_type": "execute_result"
    }
   ],
   "source": [
    "evd[2]"
   ]
  },
  {
   "cell_type": "code",
   "execution_count": 30,
   "metadata": {},
   "outputs": [
    {
     "data": {
      "text/plain": [
       "array([[-0.07257685, -0.30345059, -0.14642864, -0.57628974, -0.23848803,\n",
       "        -0.03599713, -0.356722  , -0.58684813, -0.09534359,  0.10097066]])"
      ]
     },
     "execution_count": 30,
     "metadata": {},
     "output_type": "execute_result"
    }
   ],
   "source": [
    "q1_transpose=q1_transpose.reshape(1,q1_transpose.shape[0])\n",
    "q1_transpose\n",
    "#convert into row vector."
   ]
  },
  {
   "cell_type": "code",
   "execution_count": 31,
   "metadata": {},
   "outputs": [
    {
     "data": {
      "text/plain": [
       "array([[ 1.00000000e+00, -2.02419541e-17,  1.03622676e-16,\n",
       "        -2.61344778e-16, -1.20936995e-16,  7.75145551e-17,\n",
       "         1.09340347e-16, -7.19145482e-18, -1.01472811e-16,\n",
       "        -2.87101550e-17]])"
      ]
     },
     "execution_count": 31,
     "metadata": {},
     "output_type": "execute_result"
    }
   ],
   "source": [
    "np.matmul(q1_transpose,evd[0])"
   ]
  },
  {
   "cell_type": "code",
   "execution_count": null,
   "metadata": {},
   "outputs": [],
   "source": []
  }
 ],
 "metadata": {
  "kernelspec": {
   "display_name": "Python 3",
   "language": "python",
   "name": "python3"
  },
  "language_info": {
   "codemirror_mode": {
    "name": "ipython",
    "version": 3
   },
   "file_extension": ".py",
   "mimetype": "text/x-python",
   "name": "python",
   "nbconvert_exporter": "python",
   "pygments_lexer": "ipython3",
   "version": "3.7.3"
  }
 },
 "nbformat": 4,
 "nbformat_minor": 2
}
