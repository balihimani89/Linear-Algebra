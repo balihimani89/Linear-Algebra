{
 "cells": [
  {
   "cell_type": "code",
   "execution_count": 20,
   "metadata": {},
   "outputs": [],
   "source": [
    "import numpy as np\n",
    "import scipy.stats as s"
   ]
  },
  {
   "cell_type": "code",
   "execution_count": 21,
   "metadata": {},
   "outputs": [],
   "source": [
    "N=100\n",
    "X=np.random.normal(loc=65,scale=5,size=(N,))"
   ]
  },
  {
   "cell_type": "code",
   "execution_count": 26,
   "metadata": {},
   "outputs": [
    {
     "data": {
      "text/plain": [
       "64.66416849133648"
      ]
     },
     "execution_count": 26,
     "metadata": {},
     "output_type": "execute_result"
    }
   ],
   "source": [
    "sample_mean=np.mean(X)\n",
    "sample_mean"
   ]
  },
  {
   "cell_type": "code",
   "execution_count": 27,
   "metadata": {},
   "outputs": [
    {
     "data": {
      "text/plain": [
       "5.7432061285731"
      ]
     },
     "execution_count": 27,
     "metadata": {},
     "output_type": "execute_result"
    }
   ],
   "source": [
    "sample_std=np.std(X)\n",
    "sample_std"
   ]
  },
  {
   "cell_type": "code",
   "execution_count": 22,
   "metadata": {},
   "outputs": [],
   "source": [
    "def del_by_del(miu_hat_initial,sigma_hat_initial):\n",
    "    del_by_del_miu_hat=-np.sum((X-miu_hat_initial)/sigma_hat_initial)\n",
    "    del_by_del_sigma_hat=-np.sum((((X-miu_hat_initial)**2)/sigma_hat_initial**3)-(1/sigma_hat_initial))\n",
    "    return((del_by_del_miu_hat,del_by_del_sigma_hat))\n"
   ]
  },
  {
   "cell_type": "code",
   "execution_count": 23,
   "metadata": {},
   "outputs": [],
   "source": [
    "def neg_log_loss(miu_hat,sigma_hat):\n",
    "    return -np.sum(s.norm.logpdf(x=X,loc=miu_hat,scale=sigma_hat))"
   ]
  },
  {
   "cell_type": "code",
   "execution_count": 24,
   "metadata": {},
   "outputs": [
    {
     "name": "stdout",
     "output_type": "stream",
     "text": [
      "Itaration # 0, Neg log loss=401.5823030288802,Minima=[60, 4]\n",
      "Itaration # 1, Neg log loss=351.2245833244247,Minima=[61.16604212283412, 4.605295067982119]\n",
      "Itaration # 2, Neg log loss=335.82854425396505,Minima=[61.92563001391688, 4.851142749167487]\n",
      "Itaration # 3, Neg log loss=328.26314701371945,Minima=[62.490144112762884, 4.999616060457282]\n",
      "Itaration # 4, Neg log loss=324.02950131025233,Minima=[62.92498237879861, 5.101356599042577]\n",
      "Itaration # 5, Neg log loss=321.5014296406334,Minima=[63.265908577305154, 5.176571876391737]\n",
      "Itaration # 6, Neg log loss=319.93033480322816,Minima=[63.53602168447715, 5.23527200828164]\n",
      "Itaration # 7, Neg log loss=318.9259274476203,Minima=[63.751511310436356, 5.28300439433538]\n",
      "Itaration # 8, Neg log loss=318.2691436868142,Minima=[63.92426475010389, 5.323067125085817]\n",
      "Itaration # 9, Neg log loss=317.83106149649205,Minima=[64.06326426370117, 5.357522162759108]\n",
      "Itaration # 10, Neg log loss=317.533313411206,Minima=[64.17542511145506, 5.3877116773047575]\n",
      "Itaration # 11, Neg log loss=317.32713241014307,Minima=[64.26613957599112, 5.414540824863941]\n",
      "Itaration # 12, Neg log loss=317.18161835782803,Minima=[64.33965068768458, 5.438640637954408]\n",
      "Itaration # 13, Neg log loss=317.0768993689961,Minima=[64.39931960594096, 5.460465394326963]\n",
      "Itaration # 14, Neg log loss=317.0000284914429,Minima=[64.4478225935564, 5.480352504081797]\n",
      "Itaration # 15, Neg log loss=316.94246765946343,Minima=[64.48729923262641, 5.498560211421462]\n",
      "Itaration # 16, Neg log loss=316.8985189416096,Minima=[64.51946570019417, 5.515291815112128]\n",
      "Itaration # 17, Neg log loss=316.86433328916564,Minima=[64.54570235203295, 5.530711522118135]\n",
      "Itaration # 18, Neg log loss=316.8372771998486,Minima=[64.56712204438713, 5.544955015537675]\n",
      "Itaration # 19, Neg log loss=316.81552414219755,Minima=[64.58462379988875, 5.558136630371042]\n",
      "Itaration # 20, Neg log loss=316.79778866133864,Minima=[64.5989351953685, 5.57035432014973]\n",
      "Itaration # 21, Neg log loss=316.7831519020975,Minima=[64.6106459936802, 5.581693164123556]\n",
      "Itaration # 22, Neg log loss=316.77094618457016,Minima=[64.62023492952503, 5.592227896203861]\n",
      "Itaration # 23, Neg log loss=316.7606780120383,Minima=[64.62809111182426, 5.602024768247609]\n",
      "Itaration # 24, Neg log loss=316.7519762693689,Minima=[64.63453117251744, 5.611142953126053]\n",
      "Itaration # 25, Neg log loss=316.74455704764466,Minima=[64.6398130409472, 5.619635624207336]\n",
      "Itaration # 26, Neg log loss=316.7381995196475,Minima=[64.64414703197758, 5.627550803235167]\n",
      "Itaration # 27, Neg log loss=316.73272921397586,Minima=[64.64770478917231, 5.63493203933095]\n",
      "Itaration # 28, Neg log loss=316.72800628080813,Minima=[64.65062651068541, 5.6418189624869175]\n",
      "Itaration # 29, Neg log loss=316.7239171533309,Minima=[64.65302679696562, 5.648247741974632]\n",
      "Itaration # 30, Neg log loss=316.72036854000265,Minima=[64.6549993900387, 5.654251471347058]\n",
      "Itaration # 31, Neg log loss=316.717283032542,Minima=[64.65662101959377, 5.659860495734563]\n",
      "Itaration # 32, Neg log loss=316.7145958460526,Minima=[64.6579545280342, 5.665102692999781]\n",
      "Itaration # 33, Neg log loss=316.71225236179123,Minima=[64.65905141252844, 5.670003717417788]\n",
      "Itaration # 34, Neg log loss=316.71020624623225,Minima=[64.65995389497168, 5.674587212488395]\n",
      "Itaration # 35, Neg log loss=316.70841798953165,Minima=[64.66069660914752, 5.6788749980021835]\n",
      "Itaration # 36, Neg log loss=316.706853753563,Minima=[64.66130797710159, 5.682887235394559]\n",
      "Itaration # 37, Neg log loss=316.70548445180543,Minima=[64.66181133289881, 5.686642574613576]\n",
      "Itaration # 38, Neg log loss=316.70428500544864,Minima=[64.662225840828, 5.690158285116531]\n",
      "Itaration # 39, Neg log loss=316.70323373537747,Minima=[64.66256724618285, 5.693450373141771]\n",
      "Itaration # 40, Neg log loss=316.70231186041246,Minima=[64.66284848955, 5.696533687037363]\n",
      "Itaration # 41, Neg log loss=316.70150307974075,Minima=[64.66308020972563, 5.699422012140008]\n",
      "Itaration # 42, Neg log loss=316.7007932228786,Minima=[64.66327115568622, 5.702128156467]\n",
      "Itaration # 43, Neg log loss=316.7001699544067,Minima=[64.66342852423803, 5.704664028297071]\n",
      "Itaration # 44, Neg log loss=316.6996225235787,Minima=[64.66355823688978, 5.707040706562901]\n",
      "Itaration # 45, Neg log loss=316.6991415510153,Minima=[64.6636651669921, 5.709268504851396]\n",
      "Itaration # 46, Neg log loss=316.6987188462868,Minima=[64.66375332615715, 5.7113570297021]\n",
      "Itaration # 47, Neg log loss=316.6983472513966,Minima=[64.6638260173192, 5.713315233805185]\n",
      "Itaration # 48, Neg log loss=316.6980205061058,Minima=[64.6638859604526, 5.715151464625135]\n",
      "Itaration # 49, Neg log loss=316.6977331317717,Minima=[64.6639353958675, 5.716873508912061]\n",
      "Itaration # 50, Neg log loss=316.6974803309445,Minima=[64.66397616910983, 5.718488633507556]\n",
      "Itaration # 51, Neg log loss=316.69725790042475,Minima=[64.66400980076305, 5.720003622804729]\n",
      "Itaration # 52, Neg log loss=316.69706215585956,Minima=[64.66403754385273, 5.721424813181041]\n",
      "Itaration # 53, Neg log loss=316.69688986625255,Minima=[64.66406043106842, 5.722758124687127]\n",
      "Itaration # 54, Neg log loss=316.6967381970153,Minima=[64.6640793136187, 5.724009090243806]\n",
      "Itaration # 55, Neg log loss=316.6966046603897,Minima=[64.66409489320922, 5.725182882572457]\n",
      "Itaration # 56, Neg log loss=316.69648707224667,Minima=[64.66410774836665, 5.726284339060282]\n",
      "Itaration # 57, Neg log loss=316.6963835144053,Minima=[64.66411835611265, 5.727317984741123]\n",
      "Itaration # 58, Neg log loss=316.6962923017422,Minima=[64.66412710981272, 5.7282880535541985]\n",
      "Itaration # 59, Neg log loss=316.69621195345997,Minima=[64.66413433387747, 5.729198508026915]\n",
      "Itaration # 60, Neg log loss=316.69614116797146,Minima=[64.66414029587354, 5.730053057513571]\n",
      "Itaration # 61, Neg log loss=316.6960788009334,Minima=[64.66414521650213, 5.730855175109071]\n",
      "Itaration # 62, Neg log loss=316.6960238460198,Minima=[64.66414927782172, 5.731608113345448]\n",
      "Itaration # 63, Neg log loss=316.69597541808844,Minima=[64.66415263002487, 5.732314918768922]\n",
      "Itaration # 64, Neg log loss=316.6959327384325,Minima=[64.66415539702422, 5.732978445486243]\n",
      "Itaration # 65, Neg log loss=316.69589512185473,Minima=[64.66415768105728, 5.733601367761027]\n",
      "Itaration # 66, Neg log loss=316.69586196533356,Minima=[64.66415956648295, 5.734186191733577]\n",
      "Itaration # 67, Neg log loss=316.6958327380811,Minima=[64.66416112291192, 5.734735266331236]\n",
      "Itaration # 68, Neg log loss=316.69580697281873,Minima=[64.66416240778807, 5.735250793430502]\n",
      "Itaration # 69, Neg log loss=316.6957842581199,Minima=[64.66416346851734, 5.735734837326897]\n",
      "Itaration # 70, Neg log loss=316.6957642316853,Minima=[64.66416434422365, 5.736189333563859]\n",
      "Itaration # 71, Neg log loss=316.6957465744362,Minima=[64.66416506719715, 5.736616097167689]\n",
      "Itaration # 72, Neg log loss=316.6957310053259,Minima=[64.66416566408898, 5.737016830331667]\n",
      "Itaration # 73, Neg log loss=316.6957172767789,Minima=[64.66416615689693, 5.7373931295890275]\n",
      "Itaration # 74, Neg log loss=316.6957051706814,Minima=[64.6641665637785, 5.737746492511241]\n",
      "Itaration # 75, Neg log loss=316.6956944948574,Minima=[64.66416689972188, 5.7380783239652144]\n",
      "Itaration # 76, Neg log loss=316.69568507996826,Minima=[64.66416717709951, 5.738389941960366]\n",
      "Itaration # 77, Neg log loss=316.6956767767862,Minima=[64.6641674061249, 5.738682583114153]\n",
      "Itaration # 78, Neg log loss=316.69566945379484,Minima=[64.66416759522956, 5.738957407762435]\n",
      "Itaration # 79, Neg log loss=316.6956629950791,Minima=[64.66416775137411, 5.739215504739069]\n",
      "Itaration # 80, Neg log loss=316.6956572984662,Minima=[64.66416788030503, 5.739457895847308]\n",
      "Itaration # 81, Neg log loss=316.69565227389137,Minima=[64.66416798676656, 5.739685540043881]\n",
      "Itaration # 82, Neg log loss=316.6956478419574,Minima=[64.66416807467554, 5.739899337355132]\n",
      "Itaration # 83, Neg log loss=316.6956439326675,Minima=[64.66416814726583, 5.740100132543158]\n",
      "Itaration # 84, Neg log loss=316.69564048430834,Minima=[64.6641682072074, 5.740288718538613]\n",
      "Itaration # 85, Neg log loss=316.69563744246767,Minima=[64.66416825670474, 5.740465839655639]\n",
      "Itaration # 86, Neg log loss=316.6956347591672,Minima=[64.66416829757803, 5.7406321946032906]\n",
      "Itaration # 87, Neg log loss=316.695632392101,Minima=[64.66416833133015, 5.74078843930683]\n",
      "Itaration # 88, Neg log loss=316.69563030396273,Minima=[64.66416835920198, 5.7409351895512994]\n",
      "Itaration # 89, Neg log loss=316.69562846185335,Minima=[64.66416838221818, 5.741073023458953]\n",
      "Itaration # 90, Neg log loss=316.69562683675935,Minima=[64.66416840122479, 5.741202483811309]\n",
      "Itaration # 91, Neg log loss=316.6956254030935,Minima=[64.6641684169204, 5.741324080225863]\n",
      "Itaration # 92, Neg log loss=316.6956241382889,Minima=[64.66416842988188, 5.741438291196812]\n",
      "Itaration # 93, Neg log loss=316.69562302244174,Minima=[64.66416844058557, 5.741545566008506]\n",
      "Itaration # 94, Neg log loss=316.69562203799745,Minima=[64.6641684494248, 5.741646326529774]\n",
      "Itaration # 95, Neg log loss=316.6956211694716,Minima=[64.6641684567244, 5.7417409688967025]\n",
      "Itaration # 96, Neg log loss=316.69562040320665,Minima=[64.66416846275254, 5.741829865090969]\n",
      "Itaration # 97, Neg log loss=316.69561972715536,Minima=[64.66416846773073, 5.741913364420337]\n",
      "Itaration # 98, Neg log loss=316.69561913069106,Minima=[64.66416847184186, 5.741991794907509]\n",
      "Itaration # 99, Neg log loss=316.6956186044397,Minima=[64.66416847523696, 5.7420654645931055]\n",
      "Itaration # 100, Neg log loss=316.6956181401324,Minima=[64.66416847804075, 5.74213466275818]\n",
      "Itaration # 101, Neg log loss=316.69561773047445,Minima=[64.66416848035622, 5.742199661071322]\n",
      "Itaration # 102, Neg log loss=316.6956173690309,Minima=[64.66416848226842, 5.742260714665069]\n",
      "Itaration # 103, Neg log loss=316.695617050125,Minima=[64.6641684838476, 5.7423180631460475]\n",
      "Itaration # 104, Neg log loss=316.6956167687488,Minima=[64.66416848515176, 5.742371931542983]\n",
      "Itaration # 105, Neg log loss=316.69561652048407,Minima=[64.66416848622879, 5.742422531196451]\n",
      "Itaration # 106, Neg log loss=316.6956163014331,Minima=[64.66416848711826, 5.74247006059399]\n",
      "Itaration # 107, Neg log loss=316.6956161081572,Minima=[64.66416848785282, 5.742514706153973]\n",
      "Itaration # 108, Neg log loss=316.6956159376226,Minima=[64.66416848845947, 5.742556642961411]\n",
      "Itaration # 109, Neg log loss=316.695615787153,Minima=[64.66416848896047, 5.742596035458677]\n",
      "Itaration # 110, Neg log loss=316.69561565438664,Minima=[64.66416848937422, 5.742633038093927]\n",
      "Itaration # 111, Neg log loss=316.69561553724037,Minima=[64.66416848971592, 5.742667795929843]\n",
      "Itaration # 112, Neg log loss=316.69561543387607,Minima=[64.66416848999812, 5.742700445215136]\n",
      "Itaration # 113, Neg log loss=316.6956153426719,Minima=[64.66416849023118, 5.742731113921116]\n",
      "Itaration # 114, Neg log loss=316.69561526219707,Minima=[64.66416849042365, 5.742759922245471]\n",
      "Itaration # 115, Neg log loss=316.69561519118906,Minima=[64.6641684905826, 5.742786983085281]\n",
      "Itaration # 116, Neg log loss=316.69561512853414,Minima=[64.66416849071388, 5.742812402481158]\n",
      "Itaration # 117, Neg log loss=316.6956150732495,Minima=[64.66416849082229, 5.7428362800342745]\n",
      "Itaration # 118, Neg log loss=316.69561502446794,Minima=[64.66416849091182, 5.742858709297959]\n",
      "Itaration # 119, Neg log loss=316.6956149814244,Minima=[64.66416849098576, 5.742879778145416]\n",
      "Itaration # 120, Neg log loss=316.695614943444,Minima=[64.66416849104682, 5.742899569115022]\n",
      "Itaration # 121, Neg log loss=316.695614909931,Minima=[64.66416849109726, 5.742918159734589]\n",
      "Itaration # 122, Neg log loss=316.69561488035987,Minima=[64.66416849113891, 5.742935622825867]\n",
      "Itaration # 123, Neg log loss=316.69561485426686,Minima=[64.66416849117331, 5.7429520267905065]\n",
      "Itaration # 124, Neg log loss=316.6956148312429,Minima=[64.66416849120172, 5.742967435878608]\n",
      "Itaration # 125, Neg log loss=316.6956148109268,Minima=[64.66416849122518, 5.742981910440926]\n",
      "Itaration # 126, Neg log loss=316.6956147930004,Minima=[64.66416849124457, 5.742995507165719]\n",
      "Itaration # 127, Neg log loss=316.69561477718224,Minima=[64.66416849126057, 5.7430082793012005]\n",
      "Itaration # 128, Neg log loss=316.6956147632245,Minima=[64.66416849127378, 5.743020276864447]\n",
      "Itaration # 129, Neg log loss=316.6956147509085,Minima=[64.6641684912847, 5.743031546837606]\n",
      "Itaration # 130, Neg log loss=316.69561474004087,Minima=[64.66416849129371, 5.743042133352169]\n",
      "Itaration # 131, Neg log loss=316.69561473045144,Minima=[64.66416849130115, 5.7430520778620515]\n",
      "Itaration # 132, Neg log loss=316.6956147219898,Minima=[64.66416849130731, 5.743061419306137]\n",
      "Itaration # 133, Neg log loss=316.69561471452323,Minima=[64.66416849131238, 5.743070194260955]\n",
      "Itaration # 134, Neg log loss=316.69561470793485,Minima=[64.66416849131657, 5.743078437084072]\n",
      "Itaration # 135, Neg log loss=316.69561470212125,Minima=[64.66416849132004, 5.743086180048775]\n",
      "Itaration # 136, Neg log loss=316.69561469699136,Minima=[64.6641684913229, 5.743093453470572]\n",
      "Itaration # 137, Neg log loss=316.69561469246474,Minima=[64.66416849132526, 5.743100285826006]\n",
      "Itaration # 138, Neg log loss=316.69561468847064,Minima=[64.66416849132722, 5.743106703864252]\n",
      "Itaration # 139, Neg log loss=316.6956146849462,Minima=[64.66416849132882, 5.743112732711942]\n",
      "Itaration # 140, Neg log loss=316.6956146818361,Minima=[64.66416849133016, 5.743118395971614]\n",
      "Itaration # 141, Neg log loss=316.6956146790918,Minima=[64.66416849133125, 5.743123715814194]\n",
      "Itaration # 142, Neg log loss=316.6956146766703,Minima=[64.66416849133216, 5.743128713065858]\n",
      "Itaration # 143, Neg log loss=316.69561467453354,Minima=[64.66416849133292, 5.7431334072896165]\n",
      "Itaration # 144, Neg log loss=316.69561467264805,Minima=[64.66416849133354, 5.743137816861952]\n",
      "Itaration # 145, Neg log loss=316.69561467098424,Minima=[64.66416849133405, 5.743141959044805]\n",
      "Itaration # 146, Neg log loss=316.69561466951615,Minima=[64.66416849133448, 5.7431458500531845]\n",
      "Itaration # 147, Neg log loss=316.6956146682208,Minima=[64.66416849133482, 5.743149505118682]\n",
      "Itaration # 148, Neg log loss=316.6956146670777,Minima=[64.6641684913351, 5.743152938549124]\n",
      "Itaration # 149, Neg log loss=316.695614666069,Minima=[64.66416849133535, 5.743156163784612]\n",
      "Itaration # 150, Neg log loss=316.69561466517894,Minima=[64.66416849133554, 5.743159193450151]\n",
      "Itaration # 151, Neg log loss=316.69561466439353,Minima=[64.6641684913357, 5.7431620394051]\n",
      "Itaration # 152, Neg log loss=316.69561466370044,Minima=[64.66416849133584, 5.743164712789605]\n",
      "Itaration # 153, Neg log loss=316.69561466308903,Minima=[64.66416849133596, 5.743167224068226]\n",
      "Itaration # 154, Neg log loss=316.69561466254936,Minima=[64.66416849133604, 5.743169583070912]\n",
      "Itaration # 155, Neg log loss=316.6956146620732,Minima=[64.66416849133611, 5.743171799031495]\n",
      "Itaration # 156, Neg log loss=316.69561466165305,Minima=[64.66416849133617, 5.743173880623842]\n",
      "Itaration # 157, Neg log loss=316.6956146612823,Minima=[64.66416849133623, 5.7431758359958165]\n",
      "Itaration # 158, Neg log loss=316.6956146609552,Minima=[64.66416849133627, 5.743177672801182]\n",
      "Itaration # 159, Neg log loss=316.69561466066654,Minima=[64.66416849133631, 5.743179398229569]\n",
      "Itaration # 160, Neg log loss=316.69561466041176,Minima=[64.66416849133634, 5.743181019034621]\n",
      "Itaration # 161, Neg log loss=316.69561466018695,Minima=[64.66416849133637, 5.743182541560437]\n",
      "Itaration # 162, Neg log loss=316.69561465998856,Minima=[64.66416849133638, 5.743183971766411]\n",
      "Itaration # 163, Neg log loss=316.6956146598135,Minima=[64.6641684913364, 5.743185315250556]\n",
      "Itaration # 164, Neg log loss=316.6956146596591,Minima=[64.66416849133641, 5.743186577271428]\n",
      "Itaration # 165, Neg log loss=316.6956146595228,Minima=[64.66416849133643, 5.743187762768706]\n",
      "Itaration # 166, Neg log loss=316.69561465940257,Minima=[64.66416849133644, 5.743188876382533]\n",
      "Itaration # 167, Neg log loss=316.6956146592965,Minima=[64.66416849133644, 5.74318992247168]\n",
      "Itaration # 168, Neg log loss=316.69561465920276,Minima=[64.66416849133644, 5.743190905130608]\n",
      "Itaration # 169, Neg log loss=316.6956146591202,Minima=[64.66416849133644, 5.7431918282054975]\n",
      "Itaration # 170, Neg log loss=316.69561465904735,Minima=[64.66416849133644, 5.743192695309305]\n",
      "Itaration # 171, Neg log loss=316.69561465898295,Minima=[64.66416849133644, 5.743193509835904]\n",
      "Itaration # 172, Neg log loss=316.69561465892616,Minima=[64.66416849133644, 5.743194274973372]\n",
      "Itaration # 173, Neg log loss=316.69561465887614,Minima=[64.66416849133644, 5.74319499371647]\n",
      "Itaration # 174, Neg log loss=316.6956146588319,Minima=[64.66416849133644, 5.743195668878363]\n",
      "Itaration # 175, Neg log loss=316.6956146587929,Minima=[64.66416849133644, 5.743196303101637]\n",
      "Itaration # 176, Neg log loss=316.6956146587585,Minima=[64.66416849133644, 5.743196898868638]\n",
      "Itaration # 177, Neg log loss=316.6956146587281,Minima=[64.66416849133644, 5.74319745851119]\n",
      "Itaration # 178, Neg log loss=316.6956146587013,Minima=[64.66416849133644, 5.743197984219723]\n",
      "Itaration # 179, Neg log loss=316.69561465867764,Minima=[64.66416849133644, 5.743198478051847]\n",
      "Itaration # 180, Neg log loss=316.6956146586567,Minima=[64.66416849133644, 5.743198941940404]\n",
      "Itaration # 181, Neg log loss=316.6956146586384,Minima=[64.66416849133644, 5.74319937770104]\n",
      "Itaration # 182, Neg log loss=316.69561465862216,Minima=[64.66416849133644, 5.743199787039303]\n",
      "Itaration # 183, Neg log loss=316.69561465860784,Minima=[64.66416849133644, 5.743200171557324]\n",
      "Itaration # 184, Neg log loss=316.6956146585952,Minima=[64.66416849133644, 5.7432005327600875]\n",
      "Itaration # 185, Neg log loss=316.695614658584,Minima=[64.66416849133644, 5.743200872061322]\n",
      "Itaration # 186, Neg log loss=316.69561465857413,Minima=[64.66416849133644, 5.743201190789033]\n",
      "Itaration # 187, Neg log loss=316.69561465856543,Minima=[64.66416849133644, 5.7432014901907005]\n",
      "Itaration # 188, Neg log loss=316.69561465855776,Minima=[64.66416849133644, 5.743201771438164]\n",
      "Itaration # 189, Neg log loss=316.6956146585511,Minima=[64.66416849133644, 5.7432020356322075]\n",
      "Itaration # 190, Neg log loss=316.6956146585451,Minima=[64.66416849133644, 5.743202283806867]\n",
      "Itaration # 191, Neg log loss=316.6956146585398,Minima=[64.66416849133644, 5.74320251693348]\n",
      "Itaration # 192, Neg log loss=316.69561465853513,Minima=[64.66416849133644, 5.743202735924487]\n",
      "Itaration # 193, Neg log loss=316.6956146585309,Minima=[64.66416849133644, 5.7432029416370005]\n",
      "Itaration # 194, Neg log loss=316.69561465852746,Minima=[64.66416849133644, 5.743203134876163]\n",
      "Itaration # 195, Neg log loss=316.69561465852416,Minima=[64.66416849133644, 5.743203316398296]\n",
      "Itaration # 196, Neg log loss=316.6956146585214,Minima=[64.66416849133644, 5.743203486913863]\n",
      "Itaration # 197, Neg log loss=316.6956146585188,Minima=[64.66416849133644, 5.7432036470902466]\n",
      "Itaration # 198, Neg log loss=316.6956146585168,Minima=[64.66416849133644, 5.7432037975543615]\n",
      "Itaration # 199, Neg log loss=316.6956146585148,Minima=[64.66416849133644, 5.743203938895112]\n",
      "Itaration # 200, Neg log loss=316.695614658513,Minima=[64.66416849133644, 5.7432040716656925]\n",
      "Itaration # 201, Neg log loss=316.6956146585115,Minima=[64.66416849133644, 5.743204196385755]\n",
      "Itaration # 202, Neg log loss=316.69561465851024,Minima=[64.66416849133644, 5.743204313543441]\n",
      "Itaration # 203, Neg log loss=316.6956146585091,Minima=[64.66416849133644, 5.743204423597295]\n"
     ]
    }
   ],
   "source": [
    "miu_hat_initial=60\n",
    "sigma_hat_initial=4\n",
    "tol=10**(-5)\n",
    "elipson=10**(-2)\n",
    "iter=0\n",
    "while(np.linalg.norm(x=del_by_del(miu_hat_initial,sigma_hat_initial),ord=2)>tol):\n",
    "    grad=del_by_del(miu_hat_initial,sigma_hat_initial)\n",
    "    miu_hat_final=miu_hat_initial-(elipson*grad[0])\n",
    "    sigma_hat_final=sigma_hat_initial-(elipson*grad[1])\n",
    "    neg_log_loss_value=neg_log_loss(miu_hat_initial,sigma_hat_initial)\n",
    "    print(\"Itaration # {}, Neg log loss={},Minima={}\".format(iter,    neg_log_loss_value,[miu_hat_initial,sigma_hat_initial]))\n",
    "    iter+=1\n",
    "    miu_hat_initial=miu_hat_final\n",
    "    sigma_hat_initial=sigma_hat_final"
   ]
  },
  {
   "cell_type": "code",
   "execution_count": 28,
   "metadata": {},
   "outputs": [],
   "source": [
    "#Hence we can see that sample_mean and sample_std are equal to last value of minima we got after using Gradient Descent Lagorithm"
   ]
  },
  {
   "cell_type": "code",
   "execution_count": null,
   "metadata": {},
   "outputs": [],
   "source": []
  },
  {
   "cell_type": "code",
   "execution_count": null,
   "metadata": {},
   "outputs": [],
   "source": []
  },
  {
   "cell_type": "code",
   "execution_count": 2,
   "metadata": {},
   "outputs": [],
   "source": [
    "\n",
    "    \n",
    "    "
   ]
  }
 ],
 "metadata": {
  "kernelspec": {
   "display_name": "Python 3",
   "language": "python",
   "name": "python3"
  },
  "language_info": {
   "codemirror_mode": {
    "name": "ipython",
    "version": 3
   },
   "file_extension": ".py",
   "mimetype": "text/x-python",
   "name": "python",
   "nbconvert_exporter": "python",
   "pygments_lexer": "ipython3",
   "version": "3.7.3"
  }
 },
 "nbformat": 4,
 "nbformat_minor": 2
}
