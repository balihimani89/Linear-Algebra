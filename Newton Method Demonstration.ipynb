{
 "cells": [
  {
   "cell_type": "markdown",
   "metadata": {},
   "source": [
    "let f(x)=2x^3, than f'(x)=6x^2 and  f''(x)=12x"
   ]
  },
  {
   "cell_type": "code",
   "execution_count": 11,
   "metadata": {},
   "outputs": [
    {
     "name": "stdout",
     "output_type": "stream",
     "text": [
      "The value of a function at each newton's method step is 2\n",
      "The value of a function at each newton's method step is 0.25\n",
      "The value of a function at each newton's method step is 0.03125\n",
      "The value of a function at each newton's method step is 0.00390625\n",
      "The value of a function at each newton's method step is 0.00048828125\n",
      "The value of a function at each newton's method step is 6.103515625e-05\n",
      "The convergence has been achieved and optimum value of x(x_final) is 0.0078125\n"
     ]
    }
   ],
   "source": [
    "x_initial=1\n",
    "E=0.00001\n",
    "\n",
    "for _ in range(10):\n",
    "    x_final=x_initial-((6*x_initial**2)/(12*x_initial))\n",
    "    if abs((2*x_initial**3)-(2*x_final**3))<E:\n",
    "        print(\"The convergence has been achieved and optimum value of x(x_final) is {}\".format(x_final))\n",
    "        break\n",
    "    print(\"The value of a function at each newton's method step is {}\".format(2*x_initial**3))\n",
    "    x_initial=x_final"
   ]
  },
  {
   "cell_type": "code",
   "execution_count": null,
   "metadata": {},
   "outputs": [],
   "source": []
  }
 ],
 "metadata": {
  "kernelspec": {
   "display_name": "Python 3",
   "language": "python",
   "name": "python3"
  },
  "language_info": {
   "codemirror_mode": {
    "name": "ipython",
    "version": 3
   },
   "file_extension": ".py",
   "mimetype": "text/x-python",
   "name": "python",
   "nbconvert_exporter": "python",
   "pygments_lexer": "ipython3",
   "version": "3.7.3"
  }
 },
 "nbformat": 4,
 "nbformat_minor": 2
}
